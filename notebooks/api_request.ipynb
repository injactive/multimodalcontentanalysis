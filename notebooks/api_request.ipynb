{
 "cells": [
  {
   "cell_type": "code",
   "execution_count": 1,
   "id": "9799fbff",
   "metadata": {},
   "outputs": [],
   "source": [
    "import requests"
   ]
  },
  {
   "cell_type": "code",
   "execution_count": 3,
   "id": "8ac50def",
   "metadata": {},
   "outputs": [],
   "source": [
    "url = \"http://localhost:8000/analyze-post\""
   ]
  },
  {
   "cell_type": "code",
   "execution_count": 2,
   "id": "c842fa5c",
   "metadata": {},
   "outputs": [],
   "source": [
    "data = {\n",
    "    \"text\": \"New coffee blend arrived today. Testing it out.\",\n",
    "    \"image_url\": \"https://images.unsplash.com/photo-1447933601403-0c6688de566e?w=800&h=600&fit=crop\",\n",
    "    \"content_type\": \"multimodal\"\n",
    "  }\n",
    "\n",
    "data = {\n",
    "    \"text\": \"\\ud83c\\udf89 Amazing new product launch! This is absolutely incredible and I love it so much! Check out the beautiful design and fantastic features! #amazing #love #newproduct #excited \\ud83d\\ude80\\u2728\", \n",
    "    \"image_url\": \"https://picsum.photos/800/600\",\n",
    "    \"content_type\": \"multimodal\"\n",
    "}\n",
    "\n",
    "data = {                                                \n",
    "    \"text\": \"\\ud83d\\udd0d State of AI in Social Media Marketing \\n\\n\\ud83d\\udcca Performance-Metriken allein reichen nicht aus, um echte Relevanz auf Social Media zu schaffen. Die Agentur Intermate geht einen Schritt weiter: Ihr entwickeltes KI-gest\\u00fctztes Tool kombiniert quantitative Daten mit qualitativen Insights \\u2013 von Sentiment-Analysen \\u00fcber Top-Themen der Creator bis hin zu Community-Insights.\\n\\nIn seinem Impulsvortrag zeigt Maurice van gen Hassend (Gen Z Lead, Intermate), wie Marken mit diesem Tool datenbasiert und gezielt auf Social Media kommunizieren und ihre Social-Media-Strategie zielgerichtet optimieren k\\u00f6nnen.\\n\\n\\ud83c\\udf9f\\ufe0f Jetzt Ticket sichern & nichts verpassen! (Link in Bio)\\n\\n#gces2025 #CreativeEconomy #Impuls #Strategy\",\n",
    "    \"image_url\": \"https://scontent-lhr6-2.cdninstagram.com/v/t51.2885-15/481852385_17900222301110484_6182392116209093217_n.jpg?stp=dst-jpg_e15_fr_p1080x1080_tt6&_nc_ht=scontent-lhr6-2.cdninstagram.com&_nc_cat=100&_nc_oc=Q6cZ2QEx54E0xglZUfTKJqPwoacHDGMG5D6TBxKJyuCtw23blvKeoSYDEa15qxibACwGG-0&_nc_ohc=aSdTbBRQsusQ7kNvwGGZZze&_nc_gid=MAhurlWmqS1-Y1oTfByxHg&edm=APs17CUBAAAA&ccb=7-5&oh=00_AfTxWbpQvu2Ki-ix6V657PLfMyq-20Ml-tAY9-kxhWYiHQ&oe=6889C646&_nc_sid=10d13b\",\n",
    "    \"content_type\": \"multimodal\"\n",
    "  }"
   ]
  },
  {
   "cell_type": "code",
   "execution_count": 4,
   "id": "e88f299d",
   "metadata": {},
   "outputs": [
    {
     "data": {
      "text/plain": [
       "{'request_id': 'req_1753546185302',\n",
       " 'timestamp': '2025-07-26T16:16:55.422371',\n",
       " 'content_type': 'multimodal',\n",
       " 'features': {'text_features': {'sentiment_score': 0.3208237886428833,\n",
       "   'sentiment_label': 'positive',\n",
       "   'readability_score': 15.853000000000037,\n",
       "   'word_count': 94,\n",
       "   'character_count': 696,\n",
       "   'keywords': ['social',\n",
       "    'media',\n",
       "    'auf',\n",
       "    'intermate',\n",
       "    'tool',\n",
       "    'mit',\n",
       "    'insights',\n",
       "    'gen',\n",
       "    'und',\n",
       "    'state'],\n",
       "   'hashtags': ['#gces2025', '#CreativeEconomy', '#Impuls', '#Strategy'],\n",
       "   'mentions': [],\n",
       "   'emoji_count': 3,\n",
       "   'url_count': 0},\n",
       "  'image_features': {'width': 410,\n",
       "   'height': 512,\n",
       "   'aspect_ratio': 0.8,\n",
       "   'file_size': 97764,\n",
       "   'format': 'JPEG',\n",
       "   'has_faces': False,\n",
       "   'dominant_colors': [],\n",
       "   'brightness': 0.5,\n",
       "   'contrast': 0.5,\n",
       "   'clip_embedding': None},\n",
       "  'text_image_similarity': 0.37474438548088074,\n",
       "  'content_coherence': 0.5683185963702203},\n",
       " 'prediction': {'score': 73.78040068445206,\n",
       "  'confidence': 0.6317121490925551,\n",
       "  'level': 'high',\n",
       "  'factors': {'sentiment': 0.3208237886428833,\n",
       "   'readability': -0.6829399999999992,\n",
       "   'content_length': 0.94,\n",
       "   'social_signals': 1.0,\n",
       "   'image_quality': 0.5831629236539205},\n",
       "  'recommendations': ['Simplify language and use shorter sentences for better readability']},\n",
       " 'processing_time': 430.1054673194885,\n",
       " 'model_version': '0.0.1'}"
      ]
     },
     "execution_count": 4,
     "metadata": {},
     "output_type": "execute_result"
    }
   ],
   "source": [
    "response = requests.post(url, json=data)\n",
    "response.json()"
   ]
  }
 ],
 "metadata": {
  "kernelspec": {
   "display_name": ".venv",
   "language": "python",
   "name": "python3"
  },
  "language_info": {
   "codemirror_mode": {
    "name": "ipython",
    "version": 3
   },
   "file_extension": ".py",
   "mimetype": "text/x-python",
   "name": "python",
   "nbconvert_exporter": "python",
   "pygments_lexer": "ipython3",
   "version": "3.13.2"
  }
 },
 "nbformat": 4,
 "nbformat_minor": 5
}
